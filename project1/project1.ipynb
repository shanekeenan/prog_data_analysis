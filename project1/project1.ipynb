{
 "cells": [
  {
   "cell_type": "markdown",
   "metadata": {},
   "source": [
    "### Project 1 for Programming for Data Analysis. Semester 2 HDip in Data Analytics at ATU, Galway 2023/24 \n",
    "#### Author: Shane Keenan \n",
    "#### status: ongoing \n",
    "#### Submission date: 22/12/2023\n",
    "#### Project title: Simulating a data set to estimate/predict the price of housing (in Ireland)... ?? for next 100 years? years/  monthly\n",
    "\n",
    "\n",
    "---\n"
   ]
  },
  {
   "cell_type": "markdown",
   "metadata": {},
   "source": [
    "### Problem statement (from lecturer Brian McGinley)\n",
    "For this project you must create a data set by simulating a real-world phenomenon of\n",
    "your choosing. You may pick any phenomenon you wish – you might pick one that is\n",
    "of interest to you in your personal or professional life. Then, rather than collect data\n",
    "related to the phenomenon, you should model and synthesise such data using Python.\n",
    "We suggest you use the numpy.random package for this purpose.\n",
    "Specifically, in this project you should:\n",
    "- Choose a real-world phenomenon that can be measured and for which you could\n",
    "collect at least one-hundred data points across at least four different variables.\n",
    "- Investigate the types of variables involved, their likely distributions, and their\n",
    "relationships with each other.\n",
    "- Synthesise/simulate a data set as closely matching their properties as possible.\n",
    "- Detail your research and implement the simulation in a Jupyter notebook – the\n",
    "data set itself can simply be displayed in an output cell within the notebook.\n",
    "\n",
    "Note that this project is about simulation – you must synthesise a data set. Some\n",
    "students may already have some real-world data sets in their own files. It is okay to\n",
    "base your synthesised data set on these should you wish (please reference it if you do),\n",
    "but the main task in this project is to create a synthesised data set.\n",
    "\n",
    "---"
   ]
  },
  {
   "cell_type": "markdown",
   "metadata": {},
   "source": [
    "### Introduction and rationale "
   ]
  },
  {
   "cell_type": "markdown",
   "metadata": {},
   "source": [
    "- Choose a real-world phenomenon that can be measured and for which you could\n",
    "collect at least one-hundred data points across at least four different variables.\n",
    "\n",
    "Choosing a real-world phenomenon is a more difficult task than it first seems. Having considered initially taking on some grande data set such as \"*the climate*\", i thought better of it and went for something more tangible.\n",
    "I chose the houseing market. \n",
    "\n",
    "The current average monthly house price (*price*) is my primary variable of interest. \n",
    "\n",
    "This is a definitely a multi-variable phenomona with many contributing factors, however i wanted to normalise the data set to really only focus on the economic factors. Therefore variables such as location, square meterage, number of bedrooms, number of bathrooms, year built and other amenities are not be included and we assume every house is identical and in the same location. [1,2]. In essense, we are exploring the housing market for a particular type of home in a particular area.  \n",
    "Variables that I will consider in this project are the current housing supply (*supp*), interest rates (*intra*), current speculative demand (*deman*), economy (*econ*), current affordability (*afford*). affordability.house price to earnings.. \n",
    "\n",
    "\n",
    "Subfactors which can be comnsidered included were; unemployment rate (inversely related to *econ* and *deman*), wage growth (again factors into economy), mortgage availability (could be an additional valiable on its own based on the current bank lending policies however 6 variables is already a lot), consumer condifdence (related to *econ*), population increase (related *demand*) and current rental prices/stock (correlated to *supp* and *demand*).\n",
    "\n",
    "\n",
    "\n",
    "\n",
    "\n",
    "\n",
    "\n",
    "`import numpy`\n",
    "`# import numpy`\n",
    "\n",
    "\n",
    "\n",
    "### References \n",
    "\n",
    "Factors affecting housing market \n",
    "\n",
    "1. https://www.economicshelp.org/blog/377/housing/factors-that-affect-the-housing-market/\n",
    "2. https://www.investopedia.com/articles/mortages-real-estate/11/factors-affecting-real-estate-market.asp\n",
    "3.\n",
    "4.\n",
    "5.\n",
    "\n",
    "\n",
    "\n",
    "---"
   ]
  },
  {
   "cell_type": "markdown",
   "metadata": {},
   "source": [
    "- Investigate the types of variables involved, their likely distributions, and their\n",
    "relationships with each other.\n",
    "\n",
    "\n",
    "\n",
    "\n",
    "\n",
    "--- \n"
   ]
  },
  {
   "cell_type": "markdown",
   "metadata": {},
   "source": [
    "\n",
    "\n"
   ]
  },
  {
   "cell_type": "markdown",
   "metadata": {},
   "source": []
  },
  {
   "cell_type": "markdown",
   "metadata": {},
   "source": [
    "#### import packages for python "
   ]
  },
  {
   "cell_type": "code",
   "execution_count": 15,
   "metadata": {},
   "outputs": [],
   "source": [
    "import numpy as np\n",
    "import pandas as pd \n",
    "import matplotlib.pyplot as plt \n",
    "import seaborn "
   ]
  },
  {
   "cell_type": "markdown",
   "metadata": {},
   "source": [
    "#### simulate datas sets for each variable \n"
   ]
  },
  {
   "cell_type": "code",
   "execution_count": 29,
   "metadata": {},
   "outputs": [],
   "source": [
    "# seed for reproducibility\n",
    "np.random.seed(42)\n",
    "\n",
    "# Define the number of data points and the years or months (TBD) \n",
    "\n",
    "num_data_points = 100\n",
    "years = np.arange(2022, 2022 + num_data_points)\n",
    "months = np.arange(2022, 2022 + num_data_points)\n",
    "\n",
    "# Simulate housing supply (supp) as a random number between 50 and 5000 - with a uniform distribution  -- should this be uniform? perhaps a linear increase over time? add \n",
    "\n",
    "supp = np.random.uniform(50, 500, num_data_points)\n",
    "#supp = np.random.linear(50, 500, num_data_points)\n",
    "\n",
    "\n",
    "# Simulate interest rates (intra) as a normal distribution with a mean of 3% and standard deviation of 3% ? needs thinking about - \n",
    "intra = np.random.normal(0.03, 0.03, num_data_points)\n",
    "\n",
    "\n",
    "# Simulate economic growth (econ) as a normal distribution with a mean of  X % and standard deviation of X %  --- needs thinking about\n",
    "econ = np.random.normal(0.03, 0.03, num_data_points)\n",
    "\n",
    "# Simulate current affordability (afford) as a random number between 0.5 and 1.5  - perhaps earns/house price  -- needs thinking about\n",
    "afford = np.random.uniform(0.5, 1.5, num_data_points)\n",
    "\n",
    "# Simulate speculative demand (deman)  -- needs thinking about\n",
    "deman = 2\n",
    "\n",
    "# Simulate housing prices -- needs thinking about\n",
    "housing_prices = 2000\n"
   ]
  },
  {
   "cell_type": "code",
   "execution_count": null,
   "metadata": {},
   "outputs": [],
   "source": []
  },
  {
   "cell_type": "markdown",
   "metadata": {},
   "source": [
    "##### Create a Pandas dataframe to store the simulated data along with labels "
   ]
  },
  {
   "cell_type": "code",
   "execution_count": 30,
   "metadata": {},
   "outputs": [],
   "source": [
    "# Create a DataFrame to store the simulated data\n",
    "\n",
    "\n",
    "data = pd.DataFrame({\n",
    "    'Year': years,\n",
    "    'Housing Supply': supp,\n",
    "    'Interest Rates': intra,\n",
    "    'Speculative Demand': deman,\n",
    "    'Economic Growth': econ,\n",
    "    'Affordability': afford,\n",
    "    'House Prices': housing_prices\n",
    "})\n"
   ]
  },
  {
   "cell_type": "markdown",
   "metadata": {},
   "source": [
    "#### look at the raw data "
   ]
  },
  {
   "cell_type": "code",
   "execution_count": 31,
   "metadata": {},
   "outputs": [
    {
     "name": "stdout",
     "output_type": "stream",
     "text": [
      "   Year  Housing Supply  Interest Rates  Speculative Demand  Economic Growth  \\\n",
      "0  2022      218.543053        0.032611                   2         0.030390   \n",
      "1  2023      477.821438        0.021030                   2         0.073606   \n",
      "2  2024      379.397274        0.032753                   2         0.022060   \n",
      "3  2025      319.396318       -0.029627                   2         0.111605   \n",
      "4  2026      120.208388        0.023410                   2         0.048770   \n",
      "\n",
      "   Affordability  House Prices  \n",
      "0       0.570569          2000  \n",
      "1       1.142419          2000  \n",
      "2       0.526511          2000  \n",
      "3       1.085776          2000  \n",
      "4       1.440230          2000  \n"
     ]
    }
   ],
   "source": [
    "\n",
    "# Display the first few rows of the simulated data\n",
    "print(data.head())"
   ]
  },
  {
   "cell_type": "markdown",
   "metadata": {},
   "source": [
    "### data plots of simulated housing price data "
   ]
  },
  {
   "cell_type": "code",
   "execution_count": 33,
   "metadata": {},
   "outputs": [
    {
     "data": {
      "text/plain": [
       "[<matplotlib.lines.Line2D at 0x109ce87ba10>]"
      ]
     },
     "execution_count": 33,
     "metadata": {},
     "output_type": "execute_result"
    },
    {
     "data": {
      "image/png": "[encoded data removed]",
      "text/plain": [
       "<Figure size 640x480 with 1 Axes>"
      ]
     },
     "metadata": {},
     "output_type": "display_data"
    }
   ],
   "source": [
    "# Visualize the relationships\n",
    "\n",
    "plt.plot(econ)\n",
    "\n"
   ]
  },
  {
   "cell_type": "code",
   "execution_count": null,
   "metadata": {},
   "outputs": [],
   "source": []
  },
  {
   "cell_type": "markdown",
   "metadata": {},
   "source": []
  },
  {
   "cell_type": "code",
   "execution_count": null,
   "metadata": {},
   "outputs": [],
   "source": []
  },
  {
   "cell_type": "code",
   "execution_count": null,
   "metadata": {},
   "outputs": [],
   "source": []
  },
  {
   "cell_type": "code",
   "execution_count": null,
   "metadata": {},
   "outputs": [],
   "source": []
  },
  {
   "cell_type": "code",
   "execution_count": null,
   "metadata": {},
   "outputs": [],
   "source": []
  },
  {
   "cell_type": "code",
   "execution_count": null,
   "metadata": {},
   "outputs": [],
   "source": []
  },
  {
   "cell_type": "code",
   "execution_count": null,
   "metadata": {},
   "outputs": [],
   "source": []
  },
  {
   "cell_type": "markdown",
   "metadata": {},
   "source": []
  },
  {
   "cell_type": "code",
   "execution_count": null,
   "metadata": {},
   "outputs": [],
   "source": []
  },
  {
   "cell_type": "markdown",
   "metadata": {},
   "source": []
  },
  {
   "cell_type": "code",
   "execution_count": null,
   "metadata": {},
   "outputs": [],
   "source": []
  }
 ],
 "metadata": {
  "kernelspec": {
   "display_name": "base",
   "language": "python",
   "name": "python3"
  },
  "language_info": {
   "codemirror_mode": {
    "name": "ipython",
    "version": 3
   },
   "file_extension": ".py",
   "mimetype": "text/x-python",
   "name": "python",
   "nbconvert_exporter": "python",
   "pygments_lexer": "ipython3",
   "version": "3.11.4"
  }
 },
 "nbformat": 4,
 "nbformat_minor": 2
}
