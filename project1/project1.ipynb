{
 "cells": [
  {
   "cell_type": "markdown",
   "metadata": {},
   "source": [
    "### Project 1 for Programming for Data Analysis. Semester 2, HDip in Data Analytics at ATU, Galway 2023/24 \n",
    "#### Author: Shane Keenan \n",
    "#### status: ongoing \n",
    "#### Submission due date: 05/12/2023\n",
    "#### Project title: Simulating a data set to estimate/predict the price of housing (in Ireland)... ?? for next 100 years? years/  monthly\n",
    "\n",
    "\n",
    "---\n"
   ]
  },
  {
   "cell_type": "markdown",
   "metadata": {},
   "source": [
    "### Problem statement (from lecturer Brian McGinley)\n",
    "For this project you must create a data set by simulating a real-world phenomenon of\n",
    "your choosing. You may pick any phenomenon you wish – you might pick one that is\n",
    "of interest to you in your personal or professional life. Then, rather than collect data\n",
    "related to the phenomenon, you should model and synthesise such data using Python.\n",
    "We suggest you use the numpy.random package for this purpose.\n",
    "Specifically, in this project you should:\n",
    "- Choose a real-world phenomenon that can be measured and for which you could\n",
    "collect at least one-hundred data points across at least four different variables.\n",
    "- Investigate the types of variables involved, their likely distributions, and their\n",
    "relationships with each other.\n",
    "- Synthesise/simulate a data set as closely matching their properties as possible.\n",
    "- Detail your research and implement the simulation in a Jupyter notebook – the\n",
    "data set itself can simply be displayed in an output cell within the notebook.\n",
    "\n",
    "Note that this project is about simulation – you must synthesise a data set. Some\n",
    "students may already have some real-world data sets in their own files. It is okay to\n",
    "base your synthesised data set on these should you wish (please reference it if you do),\n",
    "but the main task in this project is to create a synthesised data set.\n",
    "\n",
    "---"
   ]
  },
  {
   "cell_type": "markdown",
   "metadata": {},
   "source": [
    "### Introduction and rationale "
   ]
  },
  {
   "cell_type": "markdown",
   "metadata": {},
   "source": [
    "- Choose a real-world phenomenon that can be measured and for which you could\n",
    "collect at least one-hundred data points across at least four different variables.\n",
    "\n",
    "Choosing a real-world phenomenon is a more difficult task than it first seems. Having considered initially taking on some grande data set such as \"*the climate*\", i thought better of it and went for something more tangible.\n",
    "I chose the houseing market. \n",
    "\n",
    "The average national monthly house price (*price*) is my primary variable of interest. \n",
    "\n",
    "This is a definitely a multi-variable phenomona with many contributing factors, however i wanted to normalise the data set to really only focus on the supply and economic factors. Therefore variables such as location, square meterage, number of bedrooms, number of bathrooms, building energy rating (BER), year built and other amenities are not be included and we assume every house is identical and in the same location. [1,2]. In essense, we are exploring the housing market for a particular type of home in a particular area.   \n",
    "Variables that I will consider in this project are the current housing supply (*supp*), interest rates (*intra*), current speculative demand (*deman*), economy (*econ*), current affordability (*afford*). Where affordability is the house price to earnings.  \n",
    "\n",
    "Subfactors which can be comsidered included were; unemployment rate (inversely related to *econ* and *deman*), wage growth (again factors into *econ*), mortgage availability (could be an additional valiable on its own based on the current bank lending policies however 6 is already a lot of variables), consumer condifdence (related to *econ*), population increase (related *demand*) and current rental prices/stock (correlated to *supp* and *demand*).\n",
    "\n",
    "\n",
    "List of variables included \n",
    "\n",
    "- *price* - average national monthly house price \n",
    "- *supp*   - average monthly housing supply \n",
    "- *intra*  - interest rates \n",
    "- *deman* - current speculative demand\n",
    "- *econ* - economic growth \n",
    "- *afford* - affordability\n",
    "\n",
    "\n",
    "#### References \n",
    "Factors affecting housing market \n",
    "\n",
    "1. https://www.economicshelp.org/blog/377/housing/factors-that-affect-the-housing-market/\n",
    "2. https://www.investopedia.com/articles/mortages-real-estate/11/factors-affecting-real-estate-market.asp\n",
    "3.\n",
    "4.\n",
    "5.\n",
    "\n",
    "\n",
    "\n",
    "---"
   ]
  },
  {
   "cell_type": "markdown",
   "metadata": {},
   "source": [
    "- Investigate the types of variables involved, their likely distributions, and their\n",
    "relationships with each other.\n",
    "\n",
    "\n",
    "\n",
    "\n",
    "\n",
    "--- \n"
   ]
  },
  {
   "cell_type": "markdown",
   "metadata": {},
   "source": [
    "The houseing market can be modelled/simulated using a set of time series.. \n",
    "\n",
    "Date range \n",
    "\n",
    "Let's consider the monthly house prices from January 1975 - March 2008. My rationale here is that i was able to locate some data sets from the CSO.ie website which will allow comparsion to be made with the simulated data.\n",
    "\n",
    "\n",
    "Types of variables - all variables are numeric variables \n",
    " \n",
    "- *price* - average national monthly house price - in Euros - variable = integer (int64)\n",
    "- *supp*   - average monthly housing supply - in number - variable= integer (int64)\n",
    "- *intra*  - interest rates - in percentage %, variable type = float (float64)\n",
    "- *deman* - current speculative demand - as a ratio of the population - population and econ - \n",
    "- *econ* - economic growth - as a ratio - income growth and natioanl GDP? \n",
    "- *afford* - affordability - income (econ)/ price - ratio  \n",
    "\n",
    "\n",
    "DO i include a categorical variable that breaks up the supp (and maybe deman) variables into new-builds and second-hand homes ? \n",
    "\n",
    "\n",
    "\n"
   ]
  },
  {
   "cell_type": "markdown",
   "metadata": {},
   "source": []
  },
  {
   "cell_type": "markdown",
   "metadata": {},
   "source": [
    "#### import packages for python "
   ]
  },
  {
   "cell_type": "code",
   "execution_count": 1,
   "metadata": {},
   "outputs": [],
   "source": [
    "import numpy as np\n",
    "import pandas as pd \n",
    "import matplotlib.pyplot as plt \n",
    "import seaborn \n",
    "\n",
    "\n",
    "\n",
    "\n"
   ]
  },
  {
   "cell_type": "markdown",
   "metadata": {},
   "source": [
    "### Simulate the date range for the data set "
   ]
  },
  {
   "cell_type": "code",
   "execution_count": 2,
   "metadata": {},
   "outputs": [],
   "source": [
    "# stating Jan 1975 - Mar 2008 - 399 months of data \n",
    "idx = pd.date_range(\"1975-01-01\", periods = 399, freq =\"M\" )"
   ]
  },
  {
   "cell_type": "code",
   "execution_count": 3,
   "metadata": {},
   "outputs": [
    {
     "data": {
      "text/plain": [
       "DatetimeIndex(['1975-01-31', '1975-02-28', '1975-03-31', '1975-04-30',\n",
       "               '1975-05-31', '1975-06-30', '1975-07-31', '1975-08-31',\n",
       "               '1975-09-30', '1975-10-31',\n",
       "               ...\n",
       "               '2007-06-30', '2007-07-31', '2007-08-31', '2007-09-30',\n",
       "               '2007-10-31', '2007-11-30', '2007-12-31', '2008-01-31',\n",
       "               '2008-02-29', '2008-03-31'],\n",
       "              dtype='datetime64[ns]', length=399, freq='M')"
      ]
     },
     "execution_count": 3,
     "metadata": {},
     "output_type": "execute_result"
    }
   ],
   "source": [
    "idx\n"
   ]
  },
  {
   "cell_type": "markdown",
   "metadata": {},
   "source": [
    "#### simulate datas sets for each variable \n"
   ]
  },
  {
   "cell_type": "code",
   "execution_count": 4,
   "metadata": {},
   "outputs": [],
   "source": [
    "# seed for reproducibility\n",
    "np.random.seed(10)\n",
    "\n",
    "# define the random number generator \n",
    "rng = np.random.default_rng()\n",
    "\n",
    "\n",
    "# Define the number of monthly data points between January 1975 - March 2008  \n",
    "num_data_points = 399\n",
    "\n",
    "# supply should have an negative impact on prices - high supply - lower prices \n",
    "# Simulate housing supply (supp) as a random integer number between 50 and 5000 - with a uniform distribution  -- should this be uniform? perhaps a linear increase over time? add \n",
    "# use .randint to get integers only not floating point \n",
    "x = np.arange(num_data_points) #rng.random(num_data_points)\n",
    "y = (2*x + 50) \n",
    "#supp = y  \n",
    "supp = np.random.randint(50, 500, num_data_points) + y\n",
    "\n",
    "\n",
    "\n",
    "\n",
    "# interest rates should have a negative correlation on prices - higher interest rate - lower price \n",
    "# Simulate interest rates (intra) as a normal distribution with a mean of 3% and standard deviation of 10% ? needs thinking about - \n",
    "# needs to be positive only \n",
    "\n",
    "\n",
    "intra = np.random.normal(3, 10, num_data_points)\n",
    "\n",
    "# economic growth should have a positive correlation with prices =- the better the economy higher wage growth - more deposeable income. \n",
    "# Simulate economic growth (econ) as a normal distribution with a mean of  X % and standard deviation of X %  --- needs thinking about\n",
    "econ = np.random.normal(0.03, 0.03, num_data_points)\n",
    "\n",
    "\n",
    "# Simulate current affordability (afford) as a random number between 0.5 and 1.5  - perhaps earns/house price  -- needs thinking about\n",
    "afford = np.random.uniform(0.5, 1.5, num_data_points)\n",
    "\n",
    "# Simulate speculative demand (deman)  -- lets assume demand is always steadily increasing as the population grows. us the population data from cso? \n",
    "# demand will positively influence price .. higher demand = higher prices \n",
    "# assume 2-5 % of the population are looking to purchase \n",
    "deman = 0.05   \n",
    "\n",
    "# Simulate housing prices -- needs thinking about\n",
    "price = 2000000*  econ * deman * afford / (intra * supp)  \n"
   ]
  },
  {
   "cell_type": "markdown",
   "metadata": {},
   "source": [
    "##### Create a Pandas dataframe to store the simulated data along with labels "
   ]
  },
  {
   "cell_type": "code",
   "execution_count": 5,
   "metadata": {},
   "outputs": [],
   "source": [
    "# Create a DataFrame to store the simulated data\n",
    "\n",
    "data = pd.DataFrame({\n",
    "    'Year/Month': idx,\n",
    "    'Housing Supply': supp,\n",
    "    'Interest Rates': intra,\n",
    "    'Speculative Demand': deman,\n",
    "    'Economic Growth': econ,\n",
    "    'Affordability': afford,\n",
    "    'House Prices': price\n",
    "})\n"
   ]
  },
  {
   "cell_type": "markdown",
   "metadata": {},
   "source": [
    "#### look at the raw data "
   ]
  },
  {
   "cell_type": "code",
   "execution_count": 6,
   "metadata": {},
   "outputs": [
    {
     "data": {
      "text/html": [
       "<div>\n",
       "<style scoped>\n",
       "    .dataframe tbody tr th:only-of-type {\n",
       "        vertical-align: middle;\n",
       "    }\n",
       "\n",
       "    .dataframe tbody tr th {\n",
       "        vertical-align: top;\n",
       "    }\n",
       "\n",
       "    .dataframe thead th {\n",
       "        text-align: right;\n",
       "    }\n",
       "</style>\n",
       "<table border=\"1\" class=\"dataframe\">\n",
       "  <thead>\n",
       "    <tr style=\"text-align: right;\">\n",
       "      <th></th>\n",
       "      <th>Year/Month</th>\n",
       "      <th>Housing Supply</th>\n",
       "      <th>Interest Rates</th>\n",
       "      <th>Speculative Demand</th>\n",
       "      <th>Economic Growth</th>\n",
       "      <th>Affordability</th>\n",
       "      <th>House Prices</th>\n",
       "    </tr>\n",
       "  </thead>\n",
       "  <tbody>\n",
       "    <tr>\n",
       "      <th>0</th>\n",
       "      <td>1975-01-31</td>\n",
       "      <td>365</td>\n",
       "      <td>25.807200</td>\n",
       "      <td>0.05</td>\n",
       "      <td>0.052545</td>\n",
       "      <td>0.636462</td>\n",
       "      <td>0.355034</td>\n",
       "    </tr>\n",
       "    <tr>\n",
       "      <th>1</th>\n",
       "      <td>1975-02-28</td>\n",
       "      <td>227</td>\n",
       "      <td>11.229227</td>\n",
       "      <td>0.05</td>\n",
       "      <td>0.028776</td>\n",
       "      <td>1.304410</td>\n",
       "      <td>1.472532</td>\n",
       "    </tr>\n",
       "    <tr>\n",
       "      <th>2</th>\n",
       "      <td>1975-03-31</td>\n",
       "      <td>119</td>\n",
       "      <td>-4.887868</td>\n",
       "      <td>0.05</td>\n",
       "      <td>0.007184</td>\n",
       "      <td>0.514391</td>\n",
       "      <td>-0.635353</td>\n",
       "    </tr>\n",
       "    <tr>\n",
       "      <th>3</th>\n",
       "      <td>1975-04-30</td>\n",
       "      <td>426</td>\n",
       "      <td>4.287819</td>\n",
       "      <td>0.05</td>\n",
       "      <td>-0.014472</td>\n",
       "      <td>0.719131</td>\n",
       "      <td>-0.569750</td>\n",
       "    </tr>\n",
       "    <tr>\n",
       "      <th>4</th>\n",
       "      <td>1975-05-31</td>\n",
       "      <td>477</td>\n",
       "      <td>-5.384854</td>\n",
       "      <td>0.05</td>\n",
       "      <td>0.020720</td>\n",
       "      <td>1.113788</td>\n",
       "      <td>-0.898473</td>\n",
       "    </tr>\n",
       "  </tbody>\n",
       "</table>\n",
       "</div>"
      ],
      "text/plain": [
       "  Year/Month  Housing Supply  Interest Rates  Speculative Demand  \\\n",
       "0 1975-01-31             365       25.807200                0.05   \n",
       "1 1975-02-28             227       11.229227                0.05   \n",
       "2 1975-03-31             119       -4.887868                0.05   \n",
       "3 1975-04-30             426        4.287819                0.05   \n",
       "4 1975-05-31             477       -5.384854                0.05   \n",
       "\n",
       "   Economic Growth  Affordability  House Prices  \n",
       "0         0.052545       0.636462      0.355034  \n",
       "1         0.028776       1.304410      1.472532  \n",
       "2         0.007184       0.514391     -0.635353  \n",
       "3        -0.014472       0.719131     -0.569750  \n",
       "4         0.020720       1.113788     -0.898473  "
      ]
     },
     "execution_count": 6,
     "metadata": {},
     "output_type": "execute_result"
    }
   ],
   "source": [
    "\n",
    "# Display the first few rows of the simulated data\n",
    "data.head()"
   ]
  },
  {
   "cell_type": "markdown",
   "metadata": {},
   "source": [
    "### data plots of simulated housing price data "
   ]
  },
  {
   "cell_type": "code",
   "execution_count": 7,
   "metadata": {},
   "outputs": [
    {
     "data": {
      "text/plain": [
       "[<matplotlib.lines.Line2D at 0x19a6e5ac310>]"
      ]
     },
     "execution_count": 7,
     "metadata": {},
     "output_type": "execute_result"
    },
    {
     "data": {
      "image/png": "[encoded data removed]",
      "text/plain": [
       "<Figure size 640x480 with 1 Axes>"
      ]
     },
     "metadata": {},
     "output_type": "display_data"
    }
   ],
   "source": [
    "# Visualize the relationships\n",
    "\n",
    "plt.plot(supp)\n",
    "\n"
   ]
  },
  {
   "cell_type": "code",
   "execution_count": null,
   "metadata": {},
   "outputs": [],
   "source": []
  },
  {
   "cell_type": "markdown",
   "metadata": {},
   "source": [
    "import the data sets from CSO.ie "
   ]
  },
  {
   "cell_type": "code",
   "execution_count": 8,
   "metadata": {},
   "outputs": [],
   "source": [
    "\n",
    "\n",
    "real_intra = pd.read_csv('C:\\\\Users\\shane\\\\Desktop\\\\HDip in Data Analytics\\\\Semester 2\\\\Programming for Data Analysis\\\\prog_data_analysis\\\\project1\\\\interest_rates.csv', names = ['date', 'r_intra'])\n"
   ]
  },
  {
   "cell_type": "code",
   "execution_count": 9,
   "metadata": {},
   "outputs": [],
   "source": [
    "date = data['Year/Month']"
   ]
  },
  {
   "cell_type": "code",
   "execution_count": 10,
   "metadata": {},
   "outputs": [
    {
     "data": {
      "text/plain": [
       "0     1975-01-31\n",
       "1     1975-02-28\n",
       "2     1975-03-31\n",
       "3     1975-04-30\n",
       "4     1975-05-31\n",
       "         ...    \n",
       "394   2007-11-30\n",
       "395   2007-12-31\n",
       "396   2008-01-31\n",
       "397   2008-02-29\n",
       "398   2008-03-31\n",
       "Name: Year/Month, Length: 399, dtype: datetime64[ns]"
      ]
     },
     "execution_count": 10,
     "metadata": {},
     "output_type": "execute_result"
    }
   ],
   "source": [
    "date"
   ]
  },
  {
   "cell_type": "code",
   "execution_count": 11,
   "metadata": {},
   "outputs": [],
   "source": [
    "\n",
    "real_intra_ = real_intra.drop(real_intra.columns[0], axis =1) \n",
    "\n"
   ]
  },
  {
   "cell_type": "code",
   "execution_count": null,
   "metadata": {},
   "outputs": [],
   "source": [
    "\n"
   ]
  },
  {
   "cell_type": "code",
   "execution_count": 12,
   "metadata": {},
   "outputs": [],
   "source": [
    "result = pd.concat([real_intra_, data])"
   ]
  },
  {
   "cell_type": "code",
   "execution_count": 13,
   "metadata": {},
   "outputs": [
    {
     "data": {
      "text/html": [
       "<div>\n",
       "<style scoped>\n",
       "    .dataframe tbody tr th:only-of-type {\n",
       "        vertical-align: middle;\n",
       "    }\n",
       "\n",
       "    .dataframe tbody tr th {\n",
       "        vertical-align: top;\n",
       "    }\n",
       "\n",
       "    .dataframe thead th {\n",
       "        text-align: right;\n",
       "    }\n",
       "</style>\n",
       "<table border=\"1\" class=\"dataframe\">\n",
       "  <thead>\n",
       "    <tr style=\"text-align: right;\">\n",
       "      <th></th>\n",
       "      <th>r_intra</th>\n",
       "      <th>Year/Month</th>\n",
       "      <th>Housing Supply</th>\n",
       "      <th>Interest Rates</th>\n",
       "      <th>Speculative Demand</th>\n",
       "      <th>Economic Growth</th>\n",
       "      <th>Affordability</th>\n",
       "      <th>House Prices</th>\n",
       "    </tr>\n",
       "  </thead>\n",
       "  <tbody>\n",
       "    <tr>\n",
       "      <th>0</th>\n",
       "      <td>11.25</td>\n",
       "      <td>NaT</td>\n",
       "      <td>NaN</td>\n",
       "      <td>NaN</td>\n",
       "      <td>NaN</td>\n",
       "      <td>NaN</td>\n",
       "      <td>NaN</td>\n",
       "      <td>NaN</td>\n",
       "    </tr>\n",
       "    <tr>\n",
       "      <th>1</th>\n",
       "      <td>11.25</td>\n",
       "      <td>NaT</td>\n",
       "      <td>NaN</td>\n",
       "      <td>NaN</td>\n",
       "      <td>NaN</td>\n",
       "      <td>NaN</td>\n",
       "      <td>NaN</td>\n",
       "      <td>NaN</td>\n",
       "    </tr>\n",
       "    <tr>\n",
       "      <th>2</th>\n",
       "      <td>11.25</td>\n",
       "      <td>NaT</td>\n",
       "      <td>NaN</td>\n",
       "      <td>NaN</td>\n",
       "      <td>NaN</td>\n",
       "      <td>NaN</td>\n",
       "      <td>NaN</td>\n",
       "      <td>NaN</td>\n",
       "    </tr>\n",
       "    <tr>\n",
       "      <th>3</th>\n",
       "      <td>11.25</td>\n",
       "      <td>NaT</td>\n",
       "      <td>NaN</td>\n",
       "      <td>NaN</td>\n",
       "      <td>NaN</td>\n",
       "      <td>NaN</td>\n",
       "      <td>NaN</td>\n",
       "      <td>NaN</td>\n",
       "    </tr>\n",
       "    <tr>\n",
       "      <th>4</th>\n",
       "      <td>11.25</td>\n",
       "      <td>NaT</td>\n",
       "      <td>NaN</td>\n",
       "      <td>NaN</td>\n",
       "      <td>NaN</td>\n",
       "      <td>NaN</td>\n",
       "      <td>NaN</td>\n",
       "      <td>NaN</td>\n",
       "    </tr>\n",
       "    <tr>\n",
       "      <th>...</th>\n",
       "      <td>...</td>\n",
       "      <td>...</td>\n",
       "      <td>...</td>\n",
       "      <td>...</td>\n",
       "      <td>...</td>\n",
       "      <td>...</td>\n",
       "      <td>...</td>\n",
       "      <td>...</td>\n",
       "    </tr>\n",
       "    <tr>\n",
       "      <th>394</th>\n",
       "      <td>NaN</td>\n",
       "      <td>2007-11-30</td>\n",
       "      <td>926.0</td>\n",
       "      <td>-5.249900</td>\n",
       "      <td>0.05</td>\n",
       "      <td>-0.018162</td>\n",
       "      <td>0.990669</td>\n",
       "      <td>0.370104</td>\n",
       "    </tr>\n",
       "    <tr>\n",
       "      <th>395</th>\n",
       "      <td>NaN</td>\n",
       "      <td>2007-12-31</td>\n",
       "      <td>1256.0</td>\n",
       "      <td>3.473817</td>\n",
       "      <td>0.05</td>\n",
       "      <td>0.026249</td>\n",
       "      <td>1.041685</td>\n",
       "      <td>0.626686</td>\n",
       "    </tr>\n",
       "    <tr>\n",
       "      <th>396</th>\n",
       "      <td>NaN</td>\n",
       "      <td>2008-01-31</td>\n",
       "      <td>940.0</td>\n",
       "      <td>-3.183610</td>\n",
       "      <td>0.05</td>\n",
       "      <td>0.079093</td>\n",
       "      <td>1.282945</td>\n",
       "      <td>-3.390757</td>\n",
       "    </tr>\n",
       "    <tr>\n",
       "      <th>397</th>\n",
       "      <td>NaN</td>\n",
       "      <td>2008-02-29</td>\n",
       "      <td>1049.0</td>\n",
       "      <td>6.607696</td>\n",
       "      <td>0.05</td>\n",
       "      <td>-0.008817</td>\n",
       "      <td>0.861144</td>\n",
       "      <td>-0.109539</td>\n",
       "    </tr>\n",
       "    <tr>\n",
       "      <th>398</th>\n",
       "      <td>NaN</td>\n",
       "      <td>2008-03-31</td>\n",
       "      <td>1261.0</td>\n",
       "      <td>11.434268</td>\n",
       "      <td>0.05</td>\n",
       "      <td>0.096030</td>\n",
       "      <td>1.427119</td>\n",
       "      <td>0.950480</td>\n",
       "    </tr>\n",
       "  </tbody>\n",
       "</table>\n",
       "<p>798 rows × 8 columns</p>\n",
       "</div>"
      ],
      "text/plain": [
       "     r_intra Year/Month  Housing Supply  Interest Rates  Speculative Demand  \\\n",
       "0      11.25        NaT             NaN             NaN                 NaN   \n",
       "1      11.25        NaT             NaN             NaN                 NaN   \n",
       "2      11.25        NaT             NaN             NaN                 NaN   \n",
       "3      11.25        NaT             NaN             NaN                 NaN   \n",
       "4      11.25        NaT             NaN             NaN                 NaN   \n",
       "..       ...        ...             ...             ...                 ...   \n",
       "394      NaN 2007-11-30           926.0       -5.249900                0.05   \n",
       "395      NaN 2007-12-31          1256.0        3.473817                0.05   \n",
       "396      NaN 2008-01-31           940.0       -3.183610                0.05   \n",
       "397      NaN 2008-02-29          1049.0        6.607696                0.05   \n",
       "398      NaN 2008-03-31          1261.0       11.434268                0.05   \n",
       "\n",
       "     Economic Growth  Affordability  House Prices  \n",
       "0                NaN            NaN           NaN  \n",
       "1                NaN            NaN           NaN  \n",
       "2                NaN            NaN           NaN  \n",
       "3                NaN            NaN           NaN  \n",
       "4                NaN            NaN           NaN  \n",
       "..               ...            ...           ...  \n",
       "394        -0.018162       0.990669      0.370104  \n",
       "395         0.026249       1.041685      0.626686  \n",
       "396         0.079093       1.282945     -3.390757  \n",
       "397        -0.008817       0.861144     -0.109539  \n",
       "398         0.096030       1.427119      0.950480  \n",
       "\n",
       "[798 rows x 8 columns]"
      ]
     },
     "execution_count": 13,
     "metadata": {},
     "output_type": "execute_result"
    }
   ],
   "source": [
    "result "
   ]
  },
  {
   "cell_type": "code",
   "execution_count": null,
   "metadata": {},
   "outputs": [],
   "source": []
  },
  {
   "cell_type": "code",
   "execution_count": null,
   "metadata": {},
   "outputs": [],
   "source": []
  },
  {
   "cell_type": "markdown",
   "metadata": {},
   "source": []
  },
  {
   "cell_type": "code",
   "execution_count": null,
   "metadata": {},
   "outputs": [],
   "source": []
  },
  {
   "cell_type": "markdown",
   "metadata": {},
   "source": []
  },
  {
   "cell_type": "code",
   "execution_count": null,
   "metadata": {},
   "outputs": [],
   "source": []
  }
 ],
 "metadata": {
  "kernelspec": {
   "display_name": "base",
   "language": "python",
   "name": "python3"
  },
  "language_info": {
   "codemirror_mode": {
    "name": "ipython",
    "version": 3
   },
   "file_extension": ".py",
   "mimetype": "text/x-python",
   "name": "python",
   "nbconvert_exporter": "python",
   "pygments_lexer": "ipython3",
   "version": "3.11.4"
  }
 },
 "nbformat": 4,
 "nbformat_minor": 2
}
