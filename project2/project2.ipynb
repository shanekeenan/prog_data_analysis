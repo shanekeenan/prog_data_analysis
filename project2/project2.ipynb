{
 "cells": [
  {
   "cell_type": "code",
   "execution_count": null,
   "metadata": {},
   "outputs": [],
   "source": []
  },
  {
   "cell_type": "markdown",
   "metadata": {},
   "source": [
    "### Project title: An analysis of paleo-present climate data\n",
    "\n",
    "##### Project 2 for Programming for Data Analysis. Semester 2, HDip in Data Analytics at ATU, Galway 2023/24 \n",
    "##### Author: Shane Keenan \n",
    "##### status: ongoing \n",
    "##### Submission due date: 22/12/2023\n",
    "\n",
    "---\n"
   ]
  },
  {
   "cell_type": "markdown",
   "metadata": {},
   "source": []
  }
 ],
 "metadata": {
  "language_info": {
   "name": "python"
  }
 },
 "nbformat": 4,
 "nbformat_minor": 2
}
